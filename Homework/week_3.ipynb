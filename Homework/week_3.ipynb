{
 "cells": [
  {
   "cell_type": "code",
   "execution_count": null,
   "metadata": {},
   "outputs": [],
   "source": [
    "import pandas as pd\n",
    "import sys\n",
    "import requests"
   ]
  },
  {
   "cell_type": "code",
   "execution_count": null,
   "metadata": {},
   "outputs": [],
   "source": [
    "files_to_upload = [\n",
    "#'fhv_tripdata_2019-01.csv.gz'\n",
    "'fhv_tripdata_2019-02.csv.gz'\n",
    ",'fhv_tripdata_2019-03.csv.gz'\n",
    ",'fhv_tripdata_2019-04.csv.gz'\n",
    ",'fhv_tripdata_2019-05.csv.gz'\n",
    ",'fhv_tripdata_2019-06.csv.gz'\n",
    ",'fhv_tripdata_2019-07.csv.gz'\n",
    ",'fhv_tripdata_2019-08.csv.gz'\n",
    ",'fhv_tripdata_2019-09.csv.gz'\n",
    ",'fhv_tripdata_2019-10.csv.gz'\n",
    ",'fhv_tripdata_2019-11.csv.gz'\n",
    ",'fhv_tripdata_2019-12.csv.gz '\n",
    "]"
   ]
  },
  {
   "cell_type": "code",
   "execution_count": null,
   "metadata": {},
   "outputs": [],
   "source": [
    "for file in files_to_upload:\n",
    "    file_url = f'https://github.com/DataTalksClub/nyc-tlc-data/releases/download/fhv/{files_to_upload[file]}'\n",
    "    r = requests.get(file_url, stream = True)\n",
    "    \n",
    "    with open(file,\"wb\") as file_download:\n",
    "        for chunk in r.iter_content(chunk_size=1024):\n",
    "    \n",
    "            # writing one chunk at a time to file\n",
    "            if chunk:\n",
    "                file_download.write(chunk)"
   ]
  },
  {
   "cell_type": "code",
   "execution_count": null,
   "metadata": {},
   "outputs": [],
   "source": [
    "\n",
    "\n",
    "  \n"
   ]
  }
 ],
 "metadata": {
  "kernelspec": {
   "display_name": "data_engineering_camp",
   "language": "python",
   "name": "python3"
  },
  "language_info": {
   "name": "python",
   "version": "3.9.16 (main, Jan 11 2023, 16:05:54) \n[GCC 11.2.0]"
  },
  "orig_nbformat": 4,
  "vscode": {
   "interpreter": {
    "hash": "dc54933a467bc7787963467d9635687324c665e2ea4e91ab73f77e405fc1653a"
   }
  }
 },
 "nbformat": 4,
 "nbformat_minor": 2
}
